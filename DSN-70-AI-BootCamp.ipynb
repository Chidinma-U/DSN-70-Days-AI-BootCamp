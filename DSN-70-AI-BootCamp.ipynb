{
 "cells": [
  {
   "cell_type": "markdown",
   "metadata": {},
   "source": [
    "### Day 1\n",
    "\n",
    "Introduction to Regression"
   ]
  },
  {
   "cell_type": "code",
   "execution_count": 1,
   "metadata": {},
   "outputs": [],
   "source": [
    "import pandas as pd\n",
    "import quandl, math, datetime\n",
    "import numpy as np\n",
    "from sklearn import preprocessing, svm\n",
    "from sklearn.linear_model import LinearRegression\n",
    "from sklearn.model_selection import cross_validate, train_test_split\n",
    "import matplotlib.pyplot as plt\n",
    "from matplotlib import style\n",
    "style.use ('ggplot')\n",
    "import pickle\n",
    "import random"
   ]
  },
  {
   "cell_type": "code",
   "execution_count": 2,
   "metadata": {},
   "outputs": [],
   "source": [
    "df = quandl.get('WIKI/GOOGL')"
   ]
  },
  {
   "cell_type": "code",
   "execution_count": 3,
   "metadata": {},
   "outputs": [
    {
     "data": {
      "text/html": [
       "<div>\n",
       "<style scoped>\n",
       "    .dataframe tbody tr th:only-of-type {\n",
       "        vertical-align: middle;\n",
       "    }\n",
       "\n",
       "    .dataframe tbody tr th {\n",
       "        vertical-align: top;\n",
       "    }\n",
       "\n",
       "    .dataframe thead th {\n",
       "        text-align: right;\n",
       "    }\n",
       "</style>\n",
       "<table border=\"1\" class=\"dataframe\">\n",
       "  <thead>\n",
       "    <tr style=\"text-align: right;\">\n",
       "      <th></th>\n",
       "      <th>Open</th>\n",
       "      <th>High</th>\n",
       "      <th>Low</th>\n",
       "      <th>Close</th>\n",
       "      <th>Volume</th>\n",
       "      <th>Ex-Dividend</th>\n",
       "      <th>Split Ratio</th>\n",
       "      <th>Adj. Open</th>\n",
       "      <th>Adj. High</th>\n",
       "      <th>Adj. Low</th>\n",
       "      <th>Adj. Close</th>\n",
       "      <th>Adj. Volume</th>\n",
       "    </tr>\n",
       "    <tr>\n",
       "      <th>Date</th>\n",
       "      <th></th>\n",
       "      <th></th>\n",
       "      <th></th>\n",
       "      <th></th>\n",
       "      <th></th>\n",
       "      <th></th>\n",
       "      <th></th>\n",
       "      <th></th>\n",
       "      <th></th>\n",
       "      <th></th>\n",
       "      <th></th>\n",
       "      <th></th>\n",
       "    </tr>\n",
       "  </thead>\n",
       "  <tbody>\n",
       "    <tr>\n",
       "      <th>2004-08-19</th>\n",
       "      <td>100.01</td>\n",
       "      <td>104.06</td>\n",
       "      <td>95.96</td>\n",
       "      <td>100.335</td>\n",
       "      <td>44659000.0</td>\n",
       "      <td>0.0</td>\n",
       "      <td>1.0</td>\n",
       "      <td>50.159839</td>\n",
       "      <td>52.191109</td>\n",
       "      <td>48.128568</td>\n",
       "      <td>50.322842</td>\n",
       "      <td>44659000.0</td>\n",
       "    </tr>\n",
       "    <tr>\n",
       "      <th>2004-08-20</th>\n",
       "      <td>101.01</td>\n",
       "      <td>109.08</td>\n",
       "      <td>100.50</td>\n",
       "      <td>108.310</td>\n",
       "      <td>22834300.0</td>\n",
       "      <td>0.0</td>\n",
       "      <td>1.0</td>\n",
       "      <td>50.661387</td>\n",
       "      <td>54.708881</td>\n",
       "      <td>50.405597</td>\n",
       "      <td>54.322689</td>\n",
       "      <td>22834300.0</td>\n",
       "    </tr>\n",
       "    <tr>\n",
       "      <th>2004-08-23</th>\n",
       "      <td>110.76</td>\n",
       "      <td>113.48</td>\n",
       "      <td>109.05</td>\n",
       "      <td>109.400</td>\n",
       "      <td>18256100.0</td>\n",
       "      <td>0.0</td>\n",
       "      <td>1.0</td>\n",
       "      <td>55.551482</td>\n",
       "      <td>56.915693</td>\n",
       "      <td>54.693835</td>\n",
       "      <td>54.869377</td>\n",
       "      <td>18256100.0</td>\n",
       "    </tr>\n",
       "    <tr>\n",
       "      <th>2004-08-24</th>\n",
       "      <td>111.24</td>\n",
       "      <td>111.60</td>\n",
       "      <td>103.57</td>\n",
       "      <td>104.870</td>\n",
       "      <td>15247300.0</td>\n",
       "      <td>0.0</td>\n",
       "      <td>1.0</td>\n",
       "      <td>55.792225</td>\n",
       "      <td>55.972783</td>\n",
       "      <td>51.945350</td>\n",
       "      <td>52.597363</td>\n",
       "      <td>15247300.0</td>\n",
       "    </tr>\n",
       "    <tr>\n",
       "      <th>2004-08-25</th>\n",
       "      <td>104.76</td>\n",
       "      <td>108.00</td>\n",
       "      <td>103.88</td>\n",
       "      <td>106.000</td>\n",
       "      <td>9188600.0</td>\n",
       "      <td>0.0</td>\n",
       "      <td>1.0</td>\n",
       "      <td>52.542193</td>\n",
       "      <td>54.167209</td>\n",
       "      <td>52.100830</td>\n",
       "      <td>53.164113</td>\n",
       "      <td>9188600.0</td>\n",
       "    </tr>\n",
       "  </tbody>\n",
       "</table>\n",
       "</div>"
      ],
      "text/plain": [
       "              Open    High     Low    Close      Volume  Ex-Dividend  \\\n",
       "Date                                                                   \n",
       "2004-08-19  100.01  104.06   95.96  100.335  44659000.0          0.0   \n",
       "2004-08-20  101.01  109.08  100.50  108.310  22834300.0          0.0   \n",
       "2004-08-23  110.76  113.48  109.05  109.400  18256100.0          0.0   \n",
       "2004-08-24  111.24  111.60  103.57  104.870  15247300.0          0.0   \n",
       "2004-08-25  104.76  108.00  103.88  106.000   9188600.0          0.0   \n",
       "\n",
       "            Split Ratio  Adj. Open  Adj. High   Adj. Low  Adj. Close  \\\n",
       "Date                                                                   \n",
       "2004-08-19          1.0  50.159839  52.191109  48.128568   50.322842   \n",
       "2004-08-20          1.0  50.661387  54.708881  50.405597   54.322689   \n",
       "2004-08-23          1.0  55.551482  56.915693  54.693835   54.869377   \n",
       "2004-08-24          1.0  55.792225  55.972783  51.945350   52.597363   \n",
       "2004-08-25          1.0  52.542193  54.167209  52.100830   53.164113   \n",
       "\n",
       "            Adj. Volume  \n",
       "Date                     \n",
       "2004-08-19   44659000.0  \n",
       "2004-08-20   22834300.0  \n",
       "2004-08-23   18256100.0  \n",
       "2004-08-24   15247300.0  \n",
       "2004-08-25    9188600.0  "
      ]
     },
     "execution_count": 3,
     "metadata": {},
     "output_type": "execute_result"
    }
   ],
   "source": [
    "df.head()"
   ]
  },
  {
   "cell_type": "code",
   "execution_count": 4,
   "metadata": {},
   "outputs": [],
   "source": [
    "df = df[['Adj. Open','Adj. High','Adj. Low','Adj. Close','Adj. Volume']]"
   ]
  },
  {
   "cell_type": "code",
   "execution_count": 5,
   "metadata": {},
   "outputs": [],
   "source": [
    "df['HL_PCT'] = (df['Adj. High'] - df['Adj. Close'])/df['Adj. Close'] * 100.0"
   ]
  },
  {
   "cell_type": "code",
   "execution_count": 6,
   "metadata": {},
   "outputs": [],
   "source": [
    "df['PCT_change'] = (df['Adj. Close'] - df['Adj. Open'])/df['Adj. Open'] * 100.0"
   ]
  },
  {
   "cell_type": "code",
   "execution_count": 7,
   "metadata": {},
   "outputs": [],
   "source": [
    "df = df[['Adj. Close','HL_PCT','PCT_change','Adj. Volume']]"
   ]
  },
  {
   "cell_type": "code",
   "execution_count": 8,
   "metadata": {},
   "outputs": [
    {
     "data": {
      "text/html": [
       "<div>\n",
       "<style scoped>\n",
       "    .dataframe tbody tr th:only-of-type {\n",
       "        vertical-align: middle;\n",
       "    }\n",
       "\n",
       "    .dataframe tbody tr th {\n",
       "        vertical-align: top;\n",
       "    }\n",
       "\n",
       "    .dataframe thead th {\n",
       "        text-align: right;\n",
       "    }\n",
       "</style>\n",
       "<table border=\"1\" class=\"dataframe\">\n",
       "  <thead>\n",
       "    <tr style=\"text-align: right;\">\n",
       "      <th></th>\n",
       "      <th>Adj. Close</th>\n",
       "      <th>HL_PCT</th>\n",
       "      <th>PCT_change</th>\n",
       "      <th>Adj. Volume</th>\n",
       "    </tr>\n",
       "    <tr>\n",
       "      <th>Date</th>\n",
       "      <th></th>\n",
       "      <th></th>\n",
       "      <th></th>\n",
       "      <th></th>\n",
       "    </tr>\n",
       "  </thead>\n",
       "  <tbody>\n",
       "    <tr>\n",
       "      <th>2004-08-19</th>\n",
       "      <td>50.322842</td>\n",
       "      <td>3.712563</td>\n",
       "      <td>0.324968</td>\n",
       "      <td>44659000.0</td>\n",
       "    </tr>\n",
       "    <tr>\n",
       "      <th>2004-08-20</th>\n",
       "      <td>54.322689</td>\n",
       "      <td>0.710922</td>\n",
       "      <td>7.227007</td>\n",
       "      <td>22834300.0</td>\n",
       "    </tr>\n",
       "    <tr>\n",
       "      <th>2004-08-23</th>\n",
       "      <td>54.869377</td>\n",
       "      <td>3.729433</td>\n",
       "      <td>-1.227880</td>\n",
       "      <td>18256100.0</td>\n",
       "    </tr>\n",
       "    <tr>\n",
       "      <th>2004-08-24</th>\n",
       "      <td>52.597363</td>\n",
       "      <td>6.417469</td>\n",
       "      <td>-5.726357</td>\n",
       "      <td>15247300.0</td>\n",
       "    </tr>\n",
       "    <tr>\n",
       "      <th>2004-08-25</th>\n",
       "      <td>53.164113</td>\n",
       "      <td>1.886792</td>\n",
       "      <td>1.183658</td>\n",
       "      <td>9188600.0</td>\n",
       "    </tr>\n",
       "  </tbody>\n",
       "</table>\n",
       "</div>"
      ],
      "text/plain": [
       "            Adj. Close    HL_PCT  PCT_change  Adj. Volume\n",
       "Date                                                     \n",
       "2004-08-19   50.322842  3.712563    0.324968   44659000.0\n",
       "2004-08-20   54.322689  0.710922    7.227007   22834300.0\n",
       "2004-08-23   54.869377  3.729433   -1.227880   18256100.0\n",
       "2004-08-24   52.597363  6.417469   -5.726357   15247300.0\n",
       "2004-08-25   53.164113  1.886792    1.183658    9188600.0"
      ]
     },
     "execution_count": 8,
     "metadata": {},
     "output_type": "execute_result"
    }
   ],
   "source": [
    "df.head()"
   ]
  },
  {
   "cell_type": "markdown",
   "metadata": {},
   "source": [
    "### Day 2"
   ]
  },
  {
   "cell_type": "code",
   "execution_count": 9,
   "metadata": {},
   "outputs": [],
   "source": [
    "forecast_col = 'Adj. Close'"
   ]
  },
  {
   "cell_type": "code",
   "execution_count": 10,
   "metadata": {},
   "outputs": [],
   "source": [
    "df.fillna(-99999, inplace = True)"
   ]
  },
  {
   "cell_type": "code",
   "execution_count": 11,
   "metadata": {},
   "outputs": [],
   "source": [
    "forecast_out = int(math.ceil(0.1*len(df))) #math.ceil rounds up to the nearest whole number"
   ]
  },
  {
   "cell_type": "markdown",
   "metadata": {},
   "source": [
    "we've got features already in the 7th line, so we would create our label"
   ]
  },
  {
   "cell_type": "code",
   "execution_count": 12,
   "metadata": {},
   "outputs": [],
   "source": [
    "df['label'] = df[forecast_col].shift(-forecast_out) #this shifts the columns negatively, like shifts the column up\n",
    "#this way the label column for eac row would be the adjusted close price 10 days into the future"
   ]
  },
  {
   "cell_type": "markdown",
   "metadata": {},
   "source": [
    "features are the attributes of what may cause the adjust close price in 10 days to change "
   ]
  },
  {
   "cell_type": "code",
   "execution_count": 13,
   "metadata": {},
   "outputs": [
    {
     "data": {
      "text/html": [
       "<div>\n",
       "<style scoped>\n",
       "    .dataframe tbody tr th:only-of-type {\n",
       "        vertical-align: middle;\n",
       "    }\n",
       "\n",
       "    .dataframe tbody tr th {\n",
       "        vertical-align: top;\n",
       "    }\n",
       "\n",
       "    .dataframe thead th {\n",
       "        text-align: right;\n",
       "    }\n",
       "</style>\n",
       "<table border=\"1\" class=\"dataframe\">\n",
       "  <thead>\n",
       "    <tr style=\"text-align: right;\">\n",
       "      <th></th>\n",
       "      <th>Adj. Close</th>\n",
       "      <th>HL_PCT</th>\n",
       "      <th>PCT_change</th>\n",
       "      <th>Adj. Volume</th>\n",
       "      <th>label</th>\n",
       "    </tr>\n",
       "    <tr>\n",
       "      <th>Date</th>\n",
       "      <th></th>\n",
       "      <th></th>\n",
       "      <th></th>\n",
       "      <th></th>\n",
       "      <th></th>\n",
       "    </tr>\n",
       "  </thead>\n",
       "  <tbody>\n",
       "    <tr>\n",
       "      <th>2004-08-19</th>\n",
       "      <td>50.322842</td>\n",
       "      <td>3.712563</td>\n",
       "      <td>0.324968</td>\n",
       "      <td>44659000.0</td>\n",
       "      <td>214.005615</td>\n",
       "    </tr>\n",
       "    <tr>\n",
       "      <th>2004-08-20</th>\n",
       "      <td>54.322689</td>\n",
       "      <td>0.710922</td>\n",
       "      <td>7.227007</td>\n",
       "      <td>22834300.0</td>\n",
       "      <td>210.725489</td>\n",
       "    </tr>\n",
       "    <tr>\n",
       "      <th>2004-08-23</th>\n",
       "      <td>54.869377</td>\n",
       "      <td>3.729433</td>\n",
       "      <td>-1.227880</td>\n",
       "      <td>18256100.0</td>\n",
       "      <td>208.072299</td>\n",
       "    </tr>\n",
       "    <tr>\n",
       "      <th>2004-08-24</th>\n",
       "      <td>52.597363</td>\n",
       "      <td>6.417469</td>\n",
       "      <td>-5.726357</td>\n",
       "      <td>15247300.0</td>\n",
       "      <td>218.288837</td>\n",
       "    </tr>\n",
       "    <tr>\n",
       "      <th>2004-08-25</th>\n",
       "      <td>53.164113</td>\n",
       "      <td>1.886792</td>\n",
       "      <td>1.183658</td>\n",
       "      <td>9188600.0</td>\n",
       "      <td>223.309335</td>\n",
       "    </tr>\n",
       "  </tbody>\n",
       "</table>\n",
       "</div>"
      ],
      "text/plain": [
       "            Adj. Close    HL_PCT  PCT_change  Adj. Volume       label\n",
       "Date                                                                 \n",
       "2004-08-19   50.322842  3.712563    0.324968   44659000.0  214.005615\n",
       "2004-08-20   54.322689  0.710922    7.227007   22834300.0  210.725489\n",
       "2004-08-23   54.869377  3.729433   -1.227880   18256100.0  208.072299\n",
       "2004-08-24   52.597363  6.417469   -5.726357   15247300.0  218.288837\n",
       "2004-08-25   53.164113  1.886792    1.183658    9188600.0  223.309335"
      ]
     },
     "execution_count": 13,
     "metadata": {},
     "output_type": "execute_result"
    }
   ],
   "source": [
    "df.head()"
   ]
  },
  {
   "cell_type": "code",
   "execution_count": 14,
   "metadata": {},
   "outputs": [
    {
     "data": {
      "text/html": [
       "<div>\n",
       "<style scoped>\n",
       "    .dataframe tbody tr th:only-of-type {\n",
       "        vertical-align: middle;\n",
       "    }\n",
       "\n",
       "    .dataframe tbody tr th {\n",
       "        vertical-align: top;\n",
       "    }\n",
       "\n",
       "    .dataframe thead th {\n",
       "        text-align: right;\n",
       "    }\n",
       "</style>\n",
       "<table border=\"1\" class=\"dataframe\">\n",
       "  <thead>\n",
       "    <tr style=\"text-align: right;\">\n",
       "      <th></th>\n",
       "      <th>Adj. Close</th>\n",
       "      <th>HL_PCT</th>\n",
       "      <th>PCT_change</th>\n",
       "      <th>Adj. Volume</th>\n",
       "      <th>label</th>\n",
       "    </tr>\n",
       "    <tr>\n",
       "      <th>Date</th>\n",
       "      <th></th>\n",
       "      <th></th>\n",
       "      <th></th>\n",
       "      <th></th>\n",
       "      <th></th>\n",
       "    </tr>\n",
       "  </thead>\n",
       "  <tbody>\n",
       "    <tr>\n",
       "      <th>2018-03-21</th>\n",
       "      <td>1094.00</td>\n",
       "      <td>1.343693</td>\n",
       "      <td>0.130884</td>\n",
       "      <td>1990515.0</td>\n",
       "      <td>NaN</td>\n",
       "    </tr>\n",
       "    <tr>\n",
       "      <th>2018-03-22</th>\n",
       "      <td>1053.15</td>\n",
       "      <td>2.921711</td>\n",
       "      <td>-2.487014</td>\n",
       "      <td>3418154.0</td>\n",
       "      <td>NaN</td>\n",
       "    </tr>\n",
       "    <tr>\n",
       "      <th>2018-03-23</th>\n",
       "      <td>1026.55</td>\n",
       "      <td>3.918952</td>\n",
       "      <td>-2.360729</td>\n",
       "      <td>2413517.0</td>\n",
       "      <td>NaN</td>\n",
       "    </tr>\n",
       "    <tr>\n",
       "      <th>2018-03-26</th>\n",
       "      <td>1054.09</td>\n",
       "      <td>0.491419</td>\n",
       "      <td>0.332191</td>\n",
       "      <td>3272409.0</td>\n",
       "      <td>NaN</td>\n",
       "    </tr>\n",
       "    <tr>\n",
       "      <th>2018-03-27</th>\n",
       "      <td>1006.94</td>\n",
       "      <td>5.720301</td>\n",
       "      <td>-5.353887</td>\n",
       "      <td>2940957.0</td>\n",
       "      <td>NaN</td>\n",
       "    </tr>\n",
       "  </tbody>\n",
       "</table>\n",
       "</div>"
      ],
      "text/plain": [
       "            Adj. Close    HL_PCT  PCT_change  Adj. Volume  label\n",
       "Date                                                            \n",
       "2018-03-21     1094.00  1.343693    0.130884    1990515.0    NaN\n",
       "2018-03-22     1053.15  2.921711   -2.487014    3418154.0    NaN\n",
       "2018-03-23     1026.55  3.918952   -2.360729    2413517.0    NaN\n",
       "2018-03-26     1054.09  0.491419    0.332191    3272409.0    NaN\n",
       "2018-03-27     1006.94  5.720301   -5.353887    2940957.0    NaN"
      ]
     },
     "execution_count": 14,
     "metadata": {},
     "output_type": "execute_result"
    }
   ],
   "source": [
    "df.tail()"
   ]
  },
  {
   "cell_type": "markdown",
   "metadata": {},
   "source": [
    "### Day 3"
   ]
  },
  {
   "cell_type": "code",
   "execution_count": 15,
   "metadata": {},
   "outputs": [],
   "source": [
    "X = np.array(df.drop(['label', 'Adj. Close'],1)) #this is our feature or our test"
   ]
  },
  {
   "cell_type": "code",
   "execution_count": 16,
   "metadata": {},
   "outputs": [],
   "source": [
    "#scaling X\n",
    "\n",
    "X = preprocessing.scale(X)"
   ]
  },
  {
   "cell_type": "code",
   "execution_count": 17,
   "metadata": {},
   "outputs": [],
   "source": [
    "X_lately = X [-forecast_out:] #x_lately is what we are trying to predict against"
   ]
  },
  {
   "cell_type": "code",
   "execution_count": 18,
   "metadata": {},
   "outputs": [],
   "source": [
    "X = X[:-forecast_out]"
   ]
  },
  {
   "cell_type": "code",
   "execution_count": 19,
   "metadata": {},
   "outputs": [],
   "source": [
    "df.dropna(inplace = True)"
   ]
  },
  {
   "cell_type": "code",
   "execution_count": 20,
   "metadata": {},
   "outputs": [],
   "source": [
    "y = np.array(df['label'])  #this is our label or our train"
   ]
  },
  {
   "cell_type": "markdown",
   "metadata": {},
   "source": [
    "### Day 4"
   ]
  },
  {
   "cell_type": "code",
   "execution_count": 21,
   "metadata": {},
   "outputs": [],
   "source": [
    "X_train, X_test, y_train, y_test = train_test_split (X, y, test_size = 0.2)"
   ]
  },
  {
   "cell_type": "code",
   "execution_count": 22,
   "metadata": {},
   "outputs": [],
   "source": [
    "clf = LinearRegression(n_jobs = 10)"
   ]
  },
  {
   "cell_type": "code",
   "execution_count": 23,
   "metadata": {},
   "outputs": [
    {
     "data": {
      "text/plain": [
       "LinearRegression(copy_X=True, fit_intercept=True, n_jobs=10, normalize=False)"
      ]
     },
     "execution_count": 23,
     "metadata": {},
     "output_type": "execute_result"
    }
   ],
   "source": [
    "clf.fit(X_train, y_train) #train"
   ]
  },
  {
   "cell_type": "code",
   "execution_count": 24,
   "metadata": {},
   "outputs": [],
   "source": [
    "with open ('linearregression.pickle','wb') as f:\n",
    "    pickle.dump (clf, f) #this means to dump our trained classifier (clf) into 'f'"
   ]
  },
  {
   "cell_type": "code",
   "execution_count": 25,
   "metadata": {},
   "outputs": [],
   "source": [
    "pickle_in = open ('linearregression.pickle','rb') #to use the classifier\n",
    "clf = pickle.load(pickle_in) #load pickle in"
   ]
  },
  {
   "cell_type": "code",
   "execution_count": 26,
   "metadata": {},
   "outputs": [],
   "source": [
    "accuracy = clf.score(X_test, y_test) #test"
   ]
  },
  {
   "cell_type": "markdown",
   "metadata": {},
   "source": [
    "you would want to train and test on separate data because if you train a classifier on the same data that you test against, it would give an error because it has already seen the information"
   ]
  },
  {
   "cell_type": "code",
   "execution_count": 27,
   "metadata": {},
   "outputs": [
    {
     "data": {
      "text/plain": [
       "0.30241295870594254"
      ]
     },
     "execution_count": 27,
     "metadata": {},
     "output_type": "execute_result"
    }
   ],
   "source": [
    "accuracy"
   ]
  },
  {
   "cell_type": "markdown",
   "metadata": {},
   "source": [
    "### Day 5"
   ]
  },
  {
   "cell_type": "code",
   "execution_count": 28,
   "metadata": {},
   "outputs": [],
   "source": [
    "forecast_set = clf.predict(X_lately)"
   ]
  },
  {
   "cell_type": "code",
   "execution_count": 29,
   "metadata": {},
   "outputs": [
    {
     "name": "stdout",
     "output_type": "stream",
     "text": [
      "[514.27231184 516.19236484 525.31445873 541.83606802 546.10401072\n",
      " 544.88095655 544.49241206 549.66966857 551.06010741 560.01529184\n",
      " 533.71018441 546.82976754 537.46180016 527.82883509 544.25156593\n",
      " 543.7231274  544.49889768 538.22475619 545.10311695 540.04557016\n",
      " 544.77245118 538.6551994  542.90903504 543.43120329 530.6686973\n",
      " 550.55526011 549.57472661 546.96887297 551.70377833 557.92552392\n",
      " 555.64140157 552.07779602 553.33582286 544.49843187 539.91068343\n",
      " 546.86733494 548.58515848 539.26702055 547.95531076 551.17606614\n",
      " 548.44714206 548.16208086 549.88428755 547.06804001 553.04828629\n",
      " 554.51518653 548.77789309 531.74505526 543.30864188 543.38229854\n",
      " 515.42761786 515.96712264 517.21956745 538.30281705 535.87675839\n",
      " 544.69969368 546.68840965 548.10117154 543.95984392 549.85807138\n",
      " 550.73156425 547.63599254 549.59524665 548.23043275 548.95761653\n",
      " 553.61500697 546.56082329 550.1720783  550.72426172 547.73248611\n",
      " 548.06447315 553.74171474 548.31570199 541.2377364  550.92031308\n",
      " 553.71525085 553.06953703 553.59164412 553.83197656 548.98172432\n",
      " 548.78135877 551.67992339 552.95628518 548.55914444 552.41308995\n",
      " 540.25027433 545.43490603 534.91294353 549.23448309 518.08613087\n",
      " 538.25042778 540.26514811 546.68128524 547.13754552 554.66516851\n",
      " 546.99791768 539.35397752 548.28385525 543.02939068 547.20523993\n",
      " 552.50759524 554.08896264 554.99590136 552.05108354 553.15003242\n",
      " 553.5935105  555.38649878 553.06666052 551.49497349 551.50924198\n",
      " 543.46774159 538.75135558 549.52789684 541.16900953 513.15306974\n",
      " 534.42071547 543.47219926 542.12718118 540.13329149 545.80805419\n",
      " 541.09104625 544.58288611 551.58586552 553.85542449 550.69723878\n",
      " 549.52779917 552.59967917 535.22314418 542.86505805 549.58666937\n",
      " 549.13976043 546.0888791  551.54723806 540.17669996 544.43587156\n",
      " 545.88483546 544.98256396 549.76480128 542.57925057 548.99932723\n",
      " 547.86098575 548.59775517 543.35973889 519.70336372 505.66486441\n",
      " 539.63723088 548.28606811 533.0866702  530.50971218 547.65581536\n",
      " 551.7338588  551.81642136 555.21399487 547.17496841 550.05685833\n",
      " 535.29635055 527.74825256 522.15091284 538.08940007 545.67169111\n",
      " 538.40668107 541.05023706 545.33154798 547.99964909 546.89225878\n",
      " 545.00190637 547.65126351 552.87047394 545.11807934 548.84525926\n",
      " 548.03836875 548.26577402 547.45793894 523.4743354  480.38772617\n",
      " 536.91443417 514.90504922 542.39916294 536.83145655 552.1160277\n",
      " 537.71959659 554.92331965 550.8583872  547.72012498 548.6575764\n",
      " 548.74822968 530.20774142 545.36075931 551.66241459 554.36168468\n",
      " 549.83464083 546.56199667 549.45233343 550.4465882  543.42245173\n",
      " 552.41305268 551.53089944 552.9010187  554.49661676 552.65264875\n",
      " 552.60472433 543.84473047 554.10582473 548.52062529 547.97872728\n",
      " 552.17722805 555.34273217 550.60739742 549.82336844 552.77559476\n",
      " 548.58080689 540.07434833 547.94920308 550.39754579 540.53573848\n",
      " 549.92899125 554.06558839 541.23261334 545.4753121  535.26500025\n",
      " 548.72571137 540.13534866 548.21507394 552.39529165 556.60439133\n",
      " 544.5559079  546.57231711 552.85163168 552.85511778 543.03275101\n",
      " 546.7353822  550.1243749  552.89699083 554.51187256 550.05716704\n",
      " 543.94158949 545.20794975 547.6365232  547.10587715 548.59860992\n",
      " 543.81057734 496.12053481 535.70617297 547.57726431 537.64633468\n",
      " 550.4279474  548.05540265 556.93560327 549.70465649 541.9155099\n",
      " 554.60073888 556.46635062 553.93351613 555.70157915 552.64165857\n",
      " 551.75697595 556.53796809 552.68899322 558.52023138 556.97820441\n",
      " 543.19487231 545.85711527 530.36512336 536.44807915 542.71655627\n",
      " 543.27793076 543.50708006 550.09591473 547.9745705  547.36627227\n",
      " 552.78966014 545.83224473 548.4677772  547.39075317 522.0165673\n",
      " 546.53398577 549.84167985 548.01376135 551.33102076 556.07953403\n",
      " 555.19094308 554.44123665 555.35602303 551.85310801 546.3441515\n",
      " 546.67524435 550.62143822 546.68674261 552.24883556 549.04414925\n",
      " 553.61747017 552.34494216 540.20483919 544.63341627 547.96666255\n",
      " 548.9437028  547.09525023 548.04389865 541.07340346 543.26260508\n",
      " 547.74382399 537.97735935 547.33234244 543.16416474 544.04216816\n",
      " 527.10743294 480.71103571 519.75553889 514.06929767 535.07861756\n",
      " 532.75763359 502.62762119 527.77541069 546.24479747 538.8466523\n",
      " 541.7526456  541.1764849  546.65727421 542.61192919 550.33107002\n",
      " 550.30893452 546.35674296 540.94379212 535.46599126 533.15397917\n",
      " 531.78167892 548.88665253 551.67508047 546.30828226 546.39716988\n",
      " 537.67677499 538.35114344 542.54826844 539.6932788  546.20834097\n",
      " 531.42168991 524.41625623 528.72335063 541.28987272 521.51218129\n",
      " 539.77169223 519.25189229 534.39462403] 0.30241295870594254 343\n"
     ]
    }
   ],
   "source": [
    "print (forecast_set, accuracy, forecast_out)"
   ]
  },
  {
   "cell_type": "code",
   "execution_count": 30,
   "metadata": {},
   "outputs": [],
   "source": [
    "df['Forecast'] = np.nan"
   ]
  },
  {
   "cell_type": "code",
   "execution_count": 31,
   "metadata": {},
   "outputs": [],
   "source": [
    "last_date = df.iloc[-1].name"
   ]
  },
  {
   "cell_type": "code",
   "execution_count": 32,
   "metadata": {},
   "outputs": [],
   "source": [
    "last_unix = last_date.timestamp()"
   ]
  },
  {
   "cell_type": "code",
   "execution_count": 33,
   "metadata": {},
   "outputs": [],
   "source": [
    "one_day = 86400"
   ]
  },
  {
   "cell_type": "code",
   "execution_count": 34,
   "metadata": {},
   "outputs": [],
   "source": [
    "next_unix = last_unix + one_day"
   ]
  },
  {
   "cell_type": "markdown",
   "metadata": {},
   "source": [
    "iterating through the forecast set taking each forecast and day, setting them as the values in the dataframe and making the future features Not a number (Nan)"
   ]
  },
  {
   "cell_type": "code",
   "execution_count": 35,
   "metadata": {},
   "outputs": [],
   "source": [
    "for i in forecast_set:\n",
    "    next_date = datetime.datetime.fromtimestamp(next_unix)\n",
    "    next_unix += one_day\n",
    "    df.loc[next_date] = [np.nan for _ in range(len(df.columns)-1)] + [i] #this sets all the first columns to Nan"
   ]
  },
  {
   "cell_type": "code",
   "execution_count": 36,
   "metadata": {},
   "outputs": [
    {
     "data": {
      "image/png": "[encoded data removed]",
      "text/plain": [
       "<Figure size 432x288 with 1 Axes>"
      ]
     },
     "metadata": {
      "needs_background": "light"
     },
     "output_type": "display_data"
    }
   ],
   "source": [
    "df['Adj. Close'].plot()\n",
    "df['Forecast'].plot()\n",
    "plt.legend(loc=4)\n",
    "plt.xlabel('Date')\n",
    "plt.ylabel('Price')\n",
    "plt.show()"
   ]
  },
  {
   "cell_type": "markdown",
   "metadata": {},
   "source": [
    "Blue line is the predicton line, it includes weekends and holidays.\n",
    "\n",
    "Redline is the stock price, its just monday to friday"
   ]
  },
  {
   "cell_type": "markdown",
   "metadata": {},
   "source": [
    "### Day 6\n",
    "\n",
    "Pickling and Scaling"
   ]
  },
  {
   "cell_type": "markdown",
   "metadata": {},
   "source": [
    "Pickle is serialization of any python object, it could be a dictionary, classifier or a whole host of other things\n",
    "it's like a file, you can open it, save it and then read it when you want to use it.\n",
    "\n",
    "The purpose of saving a classifier is to avoid doing the training step, because it takes a lot of time. When you save it, you might want to retrain it once a month but you don't have to train it everytime you want to use it.\n",
    "\n",
    "You can scale linearregression very well\n"
   ]
  },
  {
   "cell_type": "markdown",
   "metadata": {},
   "source": [
    "### Day 7\n",
    "\n",
    "How Regression works"
   ]
  },
  {
   "cell_type": "markdown",
   "metadata": {},
   "source": [
    "In the case where you don't have a relationship between X and y, linear regression is not beneficial.\n",
    "The equation of a line is y=mx+b.\n",
    "\n",
    "m is the slope of the line.\n",
    "\n",
    "b is the y intercept"
   ]
  },
  {
   "cell_type": "markdown",
   "metadata": {},
   "source": [
    "### Day 8\n",
    "Creating a simple linear regression algorithm from scratch in python."
   ]
  },
  {
   "cell_type": "code",
   "execution_count": 37,
   "metadata": {},
   "outputs": [],
   "source": [
    "from statistics import mean"
   ]
  },
  {
   "cell_type": "code",
   "execution_count": 38,
   "metadata": {},
   "outputs": [],
   "source": [
    "xs = np.array([1,2,3,4,5,6], dtype = np.float64)\n",
    "ys = np.array([5,4,6,5,6,7], dtype = np.float64)"
   ]
  },
  {
   "cell_type": "code",
   "execution_count": 39,
   "metadata": {},
   "outputs": [
    {
     "name": "stdout",
     "output_type": "stream",
     "text": [
      "0.42857142857142866\n"
     ]
    }
   ],
   "source": [
    "def best_fit_slope (xs,ys):\n",
    "    m = (((mean(xs)*mean(ys)) - mean(xs*ys))/\n",
    "        ((mean(xs)*mean(xs)) - mean(xs**2)))\n",
    "    return m\n",
    "m = best_fit_slope (xs,ys)\n",
    "\n",
    "print(m)"
   ]
  },
  {
   "cell_type": "markdown",
   "metadata": {},
   "source": [
    "### Day 9"
   ]
  },
  {
   "cell_type": "code",
   "execution_count": 40,
   "metadata": {},
   "outputs": [
    {
     "name": "stdout",
     "output_type": "stream",
     "text": [
      "0.42857142857142866 4.0\n"
     ]
    }
   ],
   "source": [
    "#We need to calculate the y-intercept of the best fit line\n",
    "\n",
    "#b = mean(y) - mean(x)\n",
    "\n",
    "def best_fit_slope_and_intercept (xs,ys):\n",
    "    m = (((mean(xs)*mean(ys)) - mean(xs*ys))/\n",
    "        ((mean(xs)*mean(xs)) - mean(xs**2)))\n",
    "    \n",
    "    b = mean(ys) - m*mean(xs)\n",
    "    \n",
    "    return m,b\n",
    "m,b = best_fit_slope_and_intercept (xs,ys)\n",
    "\n",
    "print(m,b)"
   ]
  },
  {
   "cell_type": "code",
   "execution_count": 41,
   "metadata": {},
   "outputs": [
    {
     "data": {
      "image/png": "[encoded data removed]",
      "text/plain": [
       "<Figure size 432x288 with 1 Axes>"
      ]
     },
     "metadata": {},
     "output_type": "display_data"
    }
   ],
   "source": [
    "#to create a line that fits the data we have here, we have 'm' and 'b', so we need to make a list of 'ys'\n",
    "\n",
    "style.use('fivethirtyeight')\n",
    "\n",
    "\n",
    "regression_line = [(m*x)+b for x in xs]\n",
    "\n",
    "plt.scatter(xs,ys)\n",
    "plt.plot(xs, regression_line)\n",
    "plt.show()"
   ]
  },
  {
   "cell_type": "code",
   "execution_count": 42,
   "metadata": {},
   "outputs": [
    {
     "data": {
      "image/png": "[encoded data removed]",
      "text/plain": [
       "<Figure size 432x288 with 1 Axes>"
      ]
     },
     "metadata": {},
     "output_type": "display_data"
    }
   ],
   "source": [
    "#using our model of 'm' and 'b', we could make a prediction based on the data.\n",
    "\n",
    "\n",
    "predict_x = 8\n",
    "predict_y = (m*predict_x)+b\n",
    "\n",
    "plt.scatter(xs,ys)\n",
    "plt.scatter(predict_x,predict_y, color = 'g')\n",
    "plt.plot(xs, regression_line)\n",
    "plt.show()"
   ]
  },
  {
   "cell_type": "markdown",
   "metadata": {},
   "source": [
    "we can calculate how accurate the best fit line is and when you do that, you have a model might have a prediction which might have a certain accuracy and confidence to it as well"
   ]
  },
  {
   "cell_type": "markdown",
   "metadata": {},
   "source": [
    "### Day 10\n",
    "\n",
    "R squared theory"
   ]
  },
  {
   "cell_type": "markdown",
   "metadata": {},
   "source": [
    "We determine accuracy or how good a fit our best fit line is through R squared or the coefficient of determination.\n",
    "\n",
    "The coefficient of determination is calculated using squared error.\n",
    "\n",
    "The way we calculate the squared error is that we say the error is the distance between the point and the best fit line, we also square the value of the error, the reason why we quare is because we want to only deal with positive values.\n",
    "\n",
    "We only want to do linear regression on linear data, so we square the error because we want to penalize for outliers.\n",
    "\n"
   ]
  },
  {
   "cell_type": "markdown",
   "metadata": {},
   "source": [
    "Calculating the coefficient of determination: \n",
    "\n",
    "r^2 = 1 - SE y^ / SE y`\n",
    "\n",
    "where:\n",
    "\n",
    "r^2 = r squared or coefficient of determination\n",
    "\n",
    "SE = squared error\n",
    "\n",
    "y^ = y hat or y hat line or best fit line or regression line\n",
    "\n",
    "y` = mean of y\n",
    "\n",
    "\n",
    "Here, you are trying to compare the accuracy of the mean of y to the accuracy of the best fit line.\n",
    "\n",
    "Best fit line or regression line should be better than the mean of y"
   ]
  },
  {
   "cell_type": "markdown",
   "metadata": {},
   "source": [
    "### Day 11\n",
    "\n",
    "Calculating the r squared value"
   ]
  },
  {
   "cell_type": "code",
   "execution_count": 43,
   "metadata": {},
   "outputs": [
    {
     "name": "stdout",
     "output_type": "stream",
     "text": [
      "0.5844155844155845\n"
     ]
    },
    {
     "data": {
      "image/png": "[encoded data removed]",
      "text/plain": [
       "<Figure size 432x288 with 1 Axes>"
      ]
     },
     "metadata": {},
     "output_type": "display_data"
    }
   ],
   "source": [
    "def squared_error (ys_orig, ys_line):\n",
    "    return sum ((ys_line - ys_orig)**2)\n",
    "\n",
    "def coefficient_of_determination (ys_orig, ys_line):\n",
    "    y_mean_line = [mean (ys_orig) for y in ys_orig]\n",
    "    squared_error_regression_line = squared_error (ys_orig, ys_line)\n",
    "    squared_error_y_mean = squared_error (ys_orig, y_mean_line)\n",
    "    return 1 - (squared_error_regression_line / squared_error_y_mean)\n",
    "    \n",
    "m,b = best_fit_slope_and_intercept (xs,ys)\n",
    "\n",
    "regression_line = [(m*x)+b for x in xs]\n",
    "\n",
    "predict_x = 8\n",
    "predict_y = (m*predict_x)+b\n",
    "\n",
    "r_squared = coefficient_of_determination (ys, regression_line)\n",
    "print (r_squared)\n",
    "\n",
    "plt.scatter(xs,ys)\n",
    "plt.scatter(predict_x,predict_y, color = 'g')\n",
    "plt.plot(xs, regression_line)\n",
    "plt.show()\n"
   ]
  },
  {
   "cell_type": "markdown",
   "metadata": {},
   "source": [
    "### Day 12\n",
    "\n",
    "Testing our assumptions"
   ]
  },
  {
   "cell_type": "code",
   "execution_count": 44,
   "metadata": {},
   "outputs": [
    {
     "name": "stdout",
     "output_type": "stream",
     "text": [
      "0.33105689103176394\n"
     ]
    },
    {
     "data": {
      "image/png": "[encoded data removed]",
      "text/plain": [
       "<Figure size 432x288 with 1 Axes>"
      ]
     },
     "metadata": {},
     "output_type": "display_data"
    }
   ],
   "source": [
    "# xs = np.array([1,2,3,4,5,6], dtype = np.float64)\n",
    "# ys = np.array([5,4,6,5,6,7], dtype = np.float64)\n",
    "\n",
    "def create_dataset (hm, variance, step = 2, correlation = False):\n",
    "    val = 1\n",
    "    ys = []\n",
    "    for i in range (hm):\n",
    "        y = val + random.randrange(-variance, variance)\n",
    "        ys.append(y)\n",
    "        if correlation and correlation == 'pos':\n",
    "            val += step\n",
    "        if correlation and correlation == 'neg':\n",
    "            val -= step\n",
    "    xs = [i for i in range(len(ys))]\n",
    "    return np.array(xs, dtype = np.float64), np.array(ys, dtype = np.float64)\n",
    "\n",
    "def best_fit_slope_and_intercept (xs,ys):\n",
    "    m = (((mean(xs)*mean(ys)) - mean(xs*ys))/\n",
    "        ((mean(xs)*mean(xs)) - mean(xs**2)))\n",
    "    \n",
    "    b = mean(ys) - m*mean(xs)\n",
    "    \n",
    "    return m,b\n",
    "\n",
    "def squared_error (ys_orig, ys_line):\n",
    "    return sum ((ys_line - ys_orig)**2)\n",
    "\n",
    "def coefficient_of_determination (ys_orig, ys_line):\n",
    "    y_mean_line = [mean (ys_orig) for y in ys_orig]\n",
    "    squared_error_regression_line = squared_error (ys_orig, ys_line)\n",
    "    squared_error_y_mean = squared_error (ys_orig, y_mean_line)\n",
    "    return 1 - (squared_error_regression_line / squared_error_y_mean)\n",
    "\n",
    "xs, ys = create_dataset (40, 80, 2, correlation = 'pos')\n",
    "    \n",
    "m,b = best_fit_slope_and_intercept (xs,ys)\n",
    "\n",
    "regression_line = [(m*x)+b for x in xs]\n",
    "\n",
    "predict_x = 8\n",
    "predict_y = (m*predict_x)+b\n",
    "\n",
    "r_squared = coefficient_of_determination (ys, regression_line)\n",
    "print (r_squared)\n",
    "\n",
    "plt.scatter(xs,ys)\n",
    "plt.plot(xs, regression_line)\n",
    "plt.scatter(predict_x,predict_y, s=100, color = 'g')\n",
    "plt.show()"
   ]
  },
  {
   "cell_type": "markdown",
   "metadata": {},
   "source": [
    "### Day 13"
   ]
  },
  {
   "cell_type": "markdown",
   "metadata": {},
   "source": [
    "You recall that with linear regression the objective was to create a model that best fits our data.\n",
    "\n",
    "With classification, the idea is to create a model that best divides or separates our data.\n",
    "\n",
    "With classification, you know that there are two classes of the data, the objective is to create a model that fits both data, like a model that defines the different classes.\n",
    "\n",
    "With nearest neighbours, you are just checking to see who are the closest points to the outlier on the data.\n",
    "\n",
    "With K nearest neighbours, you decide what the number of k is going to be. Example, if k = 2, you would find the 2 closest neighbours to k. In general, k should be equal to an odd number, say 3.\n",
    "\n",
    "So if you had 3 groups, you would need a k = 5 to avoid any sort of split vote.\n",
    "\n",
    "With k nearest neighbours, you don't just get only classification, you get an accuracy in the model i.e you can train and test a model for its level of accuracy, but each point can also have a degree of confidence"
   ]
  },
  {
   "cell_type": "markdown",
   "metadata": {},
   "source": [
    "Downfalls with K nearest neighbours:\n",
    "\n",
    "In order to find out who the nearest neighbours are, eucladian distance is used to measure the distance.\n",
    "\n",
    "To find the euclidian distance, the simple method is to find the distance between any given points and all of the other points and then you say what are the closest 3 or 5 according to what k is.\n",
    "\n",
    "On a huge dataset, this might be a long and tedious operation, and you would find out that the larger the dataset, the worse this algorithm runs because it's not as efficient as other algorithms. Also, with K nearest neighbours, the training and testing is basically the same thing or on the same spot. The scaling in k nearest neighbour is not so good"
   ]
  },
  {
   "cell_type": "markdown",
   "metadata": {},
   "source": [
    "#### Day 14"
   ]
  },
  {
   "cell_type": "code",
   "execution_count": null,
   "metadata": {},
   "outputs": [],
   "source": []
  }
 ],
 "metadata": {
  "kernelspec": {
   "display_name": "Python 3",
   "language": "python",
   "name": "python3"
  },
  "language_info": {
   "codemirror_mode": {
    "name": "ipython",
    "version": 3
   },
   "file_extension": ".py",
   "mimetype": "text/x-python",
   "name": "python",
   "nbconvert_exporter": "python",
   "pygments_lexer": "ipython3",
   "version": "3.7.3"
  }
 },
 "nbformat": 4,
 "nbformat_minor": 2
}
